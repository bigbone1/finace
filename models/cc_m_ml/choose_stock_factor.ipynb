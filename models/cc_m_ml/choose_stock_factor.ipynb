{
 "cells": [
  {
   "cell_type": "code",
   "execution_count": 145,
   "metadata": {},
   "outputs": [],
   "source": [
    "import sys\n",
    "sys.path.append(r'D:\\python\\finace')\n",
    "from libs import MyEngine\n",
    "import pandas as pd\n",
    "import seaborn as sns\n",
    "#coding:utf-8\n",
    "import matplotlib.pyplot as plt\n",
    "from pathlib import Path\n",
    "plt.rcParams['font.sans-serif']=['SimHei'] #用来正常显示中文标签\n",
    "plt.rcParams['axes.unicode_minus']=False #用来正常显示负号\n",
    "#有中文出现的情况，需要u'内容'"
   ]
  },
  {
   "cell_type": "markdown",
   "metadata": {},
   "source": [
    "# 因子选股：\n",
    "## 找出股票\n",
    "- 交易量翻倍  k =  2\n",
    "- 交易额进入前 turnover_rank = 100"
   ]
  },
  {
   "cell_type": "code",
   "execution_count": 146,
   "metadata": {},
   "outputs": [],
   "source": [
    "sql = 'select stock_code, date, volume, open_price, close_price, turnover, turnover_rate, price_change_percentage from stock_zh_a_hist_daily where date between \"2024-07-20\" and \"2024-08-20\"'\n",
    "one_month_data = MyEngine().read_sql_query(sql)"
   ]
  },
  {
   "cell_type": "code",
   "execution_count": 147,
   "metadata": {},
   "outputs": [],
   "source": [
    "k = 5\n",
    "turnover_rank = 1000\n",
    "\n",
    "one_month_data.sort_values(by=['stock_code', 'date'], inplace=True, ascending=True)\n",
    "one_month_data['volume_next_day'] = one_month_data.groupby(['stock_code'])['volume'].shift(-1)\n",
    "one_month_data['volume_last_day'] = one_month_data.groupby(['stock_code'])['volume'].shift(1)\n",
    "one_month_data['close_price_next_days'] = one_month_data.groupby(['stock_code'])['close_price'].shift(-5)\n",
    "one_month_data.dropna(inplace=True)\n",
    "one_month_data['cumsum_return_next_days'] = (one_month_data['close_price_next_days']-one_month_data['close_price'])/one_month_data['close_price']*100\n",
    "one_month_data['volume_rate'] = 2 *  one_month_data['volume_next_day'] /  (one_month_data['volume_last_day'] + one_month_data['volume'])\n",
    "res = []\n",
    "plot_df = []\n",
    "for date, dfg in one_month_data.groupby(['date']):\n",
    "    high_volume_rate = dfg[dfg['volume_rate']>k]['stock_code'].values\n",
    "    dfg.sort_values(by=['turnover'], inplace=True, ascending=False)\n",
    "    high_turnover = dfg.iloc[:turnover_rank, :]['stock_code'].values\n",
    "    res_code = [i for i in high_volume_rate if i in high_turnover]\n",
    "    res.extend(res_code)\n",
    "\n",
    "    temp = dfg[dfg['volume_rate']>k]\n",
    "    temp = temp[temp['stock_code'].isin(high_turnover)]\n",
    "    # temp = temp[temp['price_change_percentage']>2]\n",
    "    if isinstance(plot_df, list):\n",
    "        plot_df = temp\n",
    "    else:\n",
    "        plot_df = pd.concat([plot_df, temp])    \n",
    "\n",
    "res = list(set(res))"
   ]
  },
  {
   "cell_type": "markdown",
   "metadata": {},
   "source": [
    "## 策略绘图"
   ]
  },
  {
   "cell_type": "code",
   "execution_count": 148,
   "metadata": {},
   "outputs": [
    {
     "data": {
      "image/png": "[encoded data removed]",
      "text/plain": [
       "<Figure size 640x480 with 1 Axes>"
      ]
     },
     "metadata": {},
     "output_type": "display_data"
    }
   ],
   "source": [
    "name = f'volume_rate_k{k}_turnover_rank{turnover_rank}'\n",
    "Path(f'./figs/{name}').mkdir(exist_ok=True, parents=True)\n",
    "plot_df.sort_values(by=['cumsum_return_next_days'], inplace=True, ascending=False)\n",
    "temp = plot_df[plot_df['cumsum_return_next_days']<100]\n",
    "temp = temp[temp['cumsum_return_next_days']>-100]\n",
    "rate_1 = temp[temp['cumsum_return_next_days']>0.1].shape[0]/temp.shape[0]*100\n",
    "rate_5 = temp[temp['cumsum_return_next_days']>5].shape[0]/temp.shape[0]*100\n",
    "rate_10 = temp[temp['cumsum_return_next_days']>10].shape[0]/temp.shape[0]*100\n",
    "temp['cumsum_return_next_days'].plot.hist(title=f'未来4日累计收益率 0.1%rate:{rate_1:.1f} 5%rate:{rate_5:.1f} 10%rate:{rate_10:.1f}', rwidth=0.95, bins=100)\n",
    "plt.savefig(f'./figs/{name}/stat_earning.png')"
   ]
  },
  {
   "cell_type": "code",
   "execution_count": 149,
   "metadata": {},
   "outputs": [],
   "source": [
    "# one_month_data['date'] = pd.to_datetime(one_month_data['date'])\n",
    "# for i in res:\n",
    "#     temp = one_month_data[one_month_data['stock_code']==i]\n",
    "#     ax = temp.plot(x='date', y=['open_price', 'close_price', 'volume_rate', 'turnover', 'cumsum_return_next_days'], kind='line', subplots=True, sharex=True)\n",
    "#     # temp.plot(x='date', y=['volume_rate'], kind='line', ax=axes[1])\n",
    "#     # temp.plot(x='date', y=['turnover'], kind='line', ax=axes[2])\n",
    "#     earning = plot_df[plot_df['stock_code']==i]['cumsum_return_next_days'].iloc[0]\n",
    "#     ax[0].set_title(f'股票：{i}  交易量倍数：{k} 交易额排名（top）:{turnover_rank} 未来4日累计收益率：{earning:.1f}')\n",
    "#     Path(f'./figs/{name}').mkdir(exist_ok=True, parents=True)\n",
    "#     plt.savefig(f'./figs/{name}/{earning:.1f}_{i}.png')\n",
    "#     plt.close()\n",
    "#     plt.clf()\n"
   ]
  },
  {
   "cell_type": "code",
   "execution_count": null,
   "metadata": {},
   "outputs": [],
   "source": []
  },
  {
   "cell_type": "code",
   "execution_count": null,
   "metadata": {},
   "outputs": [],
   "source": []
  }
 ],
 "metadata": {
  "kernelspec": {
   "display_name": "Python 3",
   "language": "python",
   "name": "python3"
  },
  "language_info": {
   "codemirror_mode": {
    "name": "ipython",
    "version": 3
   },
   "file_extension": ".py",
   "mimetype": "text/x-python",
   "name": "python",
   "nbconvert_exporter": "python",
   "pygments_lexer": "ipython3",
   "version": "3.8.6"
  }
 },
 "nbformat": 4,
 "nbformat_minor": 2
}
